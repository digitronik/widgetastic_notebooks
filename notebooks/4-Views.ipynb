{
 "cells": [
  {
   "cell_type": "markdown",
   "metadata": {},
   "source": [
    "# Views"
   ]
  },
  {
   "cell_type": "markdown",
   "metadata": {},
   "source": [
    "- Views are nothing but widget only but having capability to hold widgets."
   ]
  },
  {
   "cell_type": "code",
   "execution_count": null,
   "metadata": {
    "scrolled": true
   },
   "outputs": [],
   "source": [
    "from webdriver_kaifuku import BrowserManager\n",
    "from widgetastic.widget import Browser\n",
    "\n",
    "command_executor = \"http://localhost:4444/wd/hub\"\n",
    "\n",
    "config = {\n",
    "    \"webdriver\": \"Remote\",\n",
    "    \"webdriver_options\":\n",
    "        {\"desired_capabilities\": {\"browserName\": \"firefox\"},\n",
    "         \"command_executor\": command_executor,\n",
    "        }\n",
    "}\n",
    "mgr = BrowserManager.from_conf(config)\n",
    "sel = mgr.ensure_open()\n",
    "\n",
    "\n",
    "class MyBrowser(Browser):\n",
    "    pass\n",
    "\n",
    "browser = MyBrowser(selenium=sel)\n",
    "browser.url = \"file:///wt/test_page.html\""
   ]
  },
  {
   "cell_type": "code",
   "execution_count": null,
   "metadata": {},
   "outputs": [],
   "source": [
    "from widgetastic.widget import View, Text, TextInput, Checkbox, ColourInput, Select"
   ]
  },
  {
   "cell_type": "code",
   "execution_count": null,
   "metadata": {},
   "outputs": [],
   "source": [
    "# Example-1"
   ]
  },
  {
   "cell_type": "code",
   "execution_count": null,
   "metadata": {},
   "outputs": [],
   "source": [
    "class BasicWidgetView(View):\n",
    "    text_input = TextInput(id=\"text_input\")\n",
    "    checkbox = Checkbox(id=\"checkbox_input\")\n",
    "    button = Text(locator=\".//button[@id='a_button']\")\n",
    "    color_input = ColourInput(id=\"color_input\")"
   ]
  },
  {
   "cell_type": "code",
   "execution_count": null,
   "metadata": {},
   "outputs": [],
   "source": [
    "view = BasicWidgetView(browser)"
   ]
  },
  {
   "cell_type": "code",
   "execution_count": null,
   "metadata": {},
   "outputs": [],
   "source": [
    "view.is_displayed"
   ]
  },
  {
   "cell_type": "code",
   "execution_count": null,
   "metadata": {},
   "outputs": [],
   "source": [
    "view.text_input.fill(\"Foo\")"
   ]
  },
  {
   "cell_type": "code",
   "execution_count": null,
   "metadata": {},
   "outputs": [],
   "source": [
    "view.text_input.read()"
   ]
  },
  {
   "cell_type": "code",
   "execution_count": null,
   "metadata": {},
   "outputs": [],
   "source": [
    "view.read()"
   ]
  },
  {
   "cell_type": "code",
   "execution_count": null,
   "metadata": {},
   "outputs": [],
   "source": [
    "view.fill({'text_input': 'Bar',\n",
    " 'checkbox': True,\n",
    " 'button': 'What is the time?',\n",
    " 'color_input': '#000FFF'})"
   ]
  },
  {
   "cell_type": "markdown",
   "metadata": {},
   "source": [
    "### Nested Views"
   ]
  },
  {
   "cell_type": "code",
   "execution_count": null,
   "metadata": {},
   "outputs": [],
   "source": [
    "# Example-2"
   ]
  },
  {
   "cell_type": "code",
   "execution_count": null,
   "metadata": {},
   "outputs": [],
   "source": [
    "class MyNestedView(View):\n",
    "    @View.nested\n",
    "    class basic(View): #noqa\n",
    "        text_input = TextInput(id=\"text_input\")\n",
    "        checkbox = Checkbox(id=\"checkbox_input\")\n",
    "    \n",
    "    @View.nested\n",
    "    class conditional(View): \n",
    "        select_input = Select(id=\"select_lang\")\n",
    "    "
   ]
  },
  {
   "cell_type": "code",
   "execution_count": null,
   "metadata": {},
   "outputs": [],
   "source": [
    "view = MyNestedView(browser)"
   ]
  },
  {
   "cell_type": "code",
   "execution_count": null,
   "metadata": {},
   "outputs": [],
   "source": [
    "view.fill({'basic': {'text_input': 'hi', 'checkbox': True},\n",
    " 'conditional': {'select_input': 'Go'}})"
   ]
  },
  {
   "cell_type": "code",
   "execution_count": null,
   "metadata": {},
   "outputs": [],
   "source": [
    "# Example-3"
   ]
  },
  {
   "cell_type": "code",
   "execution_count": null,
   "metadata": {},
   "outputs": [],
   "source": [
    "class Basic(View):\n",
    "    text_input = TextInput(id=\"text_input\")\n",
    "    checkbox = Checkbox(id=\"checkbox_input\")\n",
    "    \n",
    "class Conditional(View):\n",
    "    select_input = Select(id=\"select_lang\")"
   ]
  },
  {
   "cell_type": "code",
   "execution_count": null,
   "metadata": {},
   "outputs": [],
   "source": [
    "class MyNestedView(View):\n",
    "    basic = View.nested(Basic)\n",
    "    conditional = View.nested(Conditional)"
   ]
  },
  {
   "cell_type": "code",
   "execution_count": null,
   "metadata": {},
   "outputs": [],
   "source": [
    "view = MyNestedView(browser)"
   ]
  },
  {
   "cell_type": "code",
   "execution_count": null,
   "metadata": {},
   "outputs": [],
   "source": [
    "view.read()"
   ]
  },
  {
   "cell_type": "markdown",
   "metadata": {},
   "source": [
    "### Switchable Conditional Views"
   ]
  },
  {
   "cell_type": "code",
   "execution_count": null,
   "metadata": {},
   "outputs": [],
   "source": [
    "from widgetastic.widget import ConditionalSwitchableView"
   ]
  },
  {
   "cell_type": "code",
   "execution_count": null,
   "metadata": {},
   "outputs": [],
   "source": [
    "# Example-4: Switchable widgets"
   ]
  },
  {
   "cell_type": "code",
   "execution_count": null,
   "metadata": {},
   "outputs": [],
   "source": [
    "class MyConditionalWidgetView(View):\n",
    "    select_input = Select(id=\"select_lang\")\n",
    "    \n",
    "    lang_label = ConditionalSwitchableView(reference=\"select_input\")\n",
    "    \n",
    "    lang_label.register(\"Python\", default=True, widget=Text(locator=\".//h3[@id='lang-1']\"))\n",
    "    lang_label.register(\"Go\", widget=Text(locator=\".//h3[@id='lang-2']\"))"
   ]
  },
  {
   "cell_type": "code",
   "execution_count": null,
   "metadata": {},
   "outputs": [],
   "source": [
    "view = MyConditionalWidgetView(browser)"
   ]
  },
  {
   "cell_type": "code",
   "execution_count": null,
   "metadata": {},
   "outputs": [],
   "source": []
  },
  {
   "cell_type": "code",
   "execution_count": null,
   "metadata": {},
   "outputs": [],
   "source": [
    "# Example-5: Switchable Views"
   ]
  },
  {
   "cell_type": "code",
   "execution_count": null,
   "metadata": {},
   "outputs": [],
   "source": [
    "class MyConditionalView(View):\n",
    "    select_input = Select(id=\"select_lang\")\n",
    "    \n",
    "    lang = ConditionalSwitchableView(reference=\"select_input\")\n",
    "    \n",
    "    @lang.register(\"Python\", default=True)\n",
    "    class PythonView(View):\n",
    "        # some more widgets\n",
    "        lang_label = Text(locator=\".//h3[@id='lang-1']\")\n",
    "    \n",
    "    @lang.register(\"Go\")\n",
    "    class GoView(View):\n",
    "        lang_label = Text(locator=\".//h3[@id='lang-2']\")\n",
    "           "
   ]
  },
  {
   "cell_type": "code",
   "execution_count": null,
   "metadata": {},
   "outputs": [],
   "source": [
    "view = MyConditionalView(browser)"
   ]
  },
  {
   "cell_type": "code",
   "execution_count": null,
   "metadata": {},
   "outputs": [],
   "source": []
  },
  {
   "cell_type": "markdown",
   "metadata": {},
   "source": [
    "### Parametrized Views"
   ]
  },
  {
   "cell_type": "code",
   "execution_count": null,
   "metadata": {},
   "outputs": [],
   "source": [
    "from widgetastic.widget import ParametrizedView\n",
    "from widgetastic.utils import ParametrizedLocator"
   ]
  },
  {
   "cell_type": "code",
   "execution_count": null,
   "metadata": {},
   "outputs": [],
   "source": [
    "# Example-6"
   ]
  },
  {
   "cell_type": "code",
   "execution_count": null,
   "metadata": {},
   "outputs": [],
   "source": [
    "class MyParametrizedView(ParametrizedView):\n",
    "    PARAMETERS = ('name',)\n",
    "    \n",
    "    ROOT = ParametrizedLocator(\".//div[contains(label, {name|quote})]\")\n",
    "    \n",
    "    widget = Checkbox(locator=\".//input\")\n",
    "    "
   ]
  },
  {
   "cell_type": "code",
   "execution_count": null,
   "metadata": {},
   "outputs": [],
   "source": [
    "view = MyParametrizedView(browser, additional_context={'name': 'widget 1'})"
   ]
  },
  {
   "cell_type": "code",
   "execution_count": null,
   "metadata": {},
   "outputs": [],
   "source": []
  },
  {
   "cell_type": "code",
   "execution_count": null,
   "metadata": {},
   "outputs": [],
   "source": [
    "# Example-7: Nested Parametrized View"
   ]
  },
  {
   "cell_type": "code",
   "execution_count": null,
   "metadata": {},
   "outputs": [],
   "source": [
    "class MyNestedParametrizedView(View):\n",
    "\n",
    "    @View.nested\n",
    "    class widget_selector(ParametrizedView):\n",
    "        PARAMETERS = ('name',)\n",
    "\n",
    "        ROOT = ParametrizedLocator(\".//div[contains(label, {name|quote})]\")\n",
    "\n",
    "        widget = Checkbox(locator=\".//input\")"
   ]
  },
  {
   "cell_type": "code",
   "execution_count": null,
   "metadata": {},
   "outputs": [],
   "source": [
    "view = MyNestedParametrizedView(browser)"
   ]
  },
  {
   "cell_type": "code",
   "execution_count": null,
   "metadata": {},
   "outputs": [],
   "source": []
  }
 ],
 "metadata": {
  "kernelspec": {
   "display_name": "Python 3 (ipykernel)",
   "language": "python",
   "name": "python3"
  },
  "language_info": {
   "codemirror_mode": {
    "name": "ipython",
    "version": 3
   },
   "file_extension": ".py",
   "mimetype": "text/x-python",
   "name": "python",
   "nbconvert_exporter": "python",
   "pygments_lexer": "ipython3",
   "version": "3.11.9"
  }
 },
 "nbformat": 4,
 "nbformat_minor": 4
}
