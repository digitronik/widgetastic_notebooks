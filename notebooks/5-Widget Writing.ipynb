{
 "cells": [
  {
   "cell_type": "code",
   "execution_count": null,
   "metadata": {},
   "outputs": [],
   "source": [
    "from webdriver_kaifuku import BrowserManager\n",
    "from widgetastic.widget import Browser\n",
    "\n",
    "command_executor = \"http://localhost:4444/wd/hub\"\n",
    "\n",
    "config = {\n",
    "    \"webdriver\": \"Remote\",\n",
    "    \"webdriver_options\":\n",
    "        {\"desired_capabilities\": {\"browserName\": \"firefox\"},\n",
    "         \"command_executor\": command_executor,\n",
    "        },\n",
    "}\n",
    "mgr = BrowserManager.from_conf(config)\n",
    "sel_webdriver = mgr.ensure_open()\n",
    "\n",
    "\n",
    "class MyBrowser(Browser):\n",
    "    pass\n",
    "\n",
    "browser = MyBrowser(selenium=sel_webdriver)\n",
    "browser.url = \"file:///wt/test_page.html\""
   ]
  },
  {
   "cell_type": "code",
   "execution_count": null,
   "metadata": {},
   "outputs": [],
   "source": [
    "from widgetastic.widget import Widget, View, Text, ParametrizedView\n",
    "from widgetastic.utils import ParametrizedLocator\n",
    "from widgetastic.xpath import quote"
   ]
  },
  {
   "cell_type": "code",
   "execution_count": null,
   "metadata": {},
   "outputs": [],
   "source": []
  },
  {
   "cell_type": "code",
   "execution_count": null,
   "metadata": {},
   "outputs": [],
   "source": [
    "class SparkLineChart(Widget):\n",
    "    ROOT = ParametrizedLocator(\"{@locator}\")\n",
    "\n",
    "    # axis event mapping\n",
    "    RECTS = \".//*[contains(@class, 'c3-event-rects c3-event-rects-single')]//*\"\n",
    "    tooltip = Text(\".//div[contains(@class,'c3-tooltip-container')]\")\n",
    "\n",
    "    def __init__(self, parent, id=None, locator=None, logger=None):\n",
    "        \"\"\"Create the widget\"\"\"\n",
    "        Widget.__init__(self, parent, logger=logger)\n",
    "\n",
    "        if id:\n",
    "            self.locator = f\".//div[@id={quote(id)}]\"\n",
    "        elif locator:\n",
    "            self.locator = locator\n",
    "        else:\n",
    "            raise TypeError(\"You need to specify either id or locator\")\n",
    "\n",
    "    def read(self):\n",
    "        data = []\n",
    "        for el in self.browser.elements(self.RECTS):\n",
    "            self.browser.move_to_element(el)\n",
    "            data.append(self.tooltip.read())\n",
    "        return data"
   ]
  },
  {
   "cell_type": "code",
   "execution_count": null,
   "metadata": {},
   "outputs": [],
   "source": []
  }
 ],
 "metadata": {
  "kernelspec": {
   "display_name": "Python 3 (ipykernel)",
   "language": "python",
   "name": "python3"
  },
  "language_info": {
   "codemirror_mode": {
    "name": "ipython",
    "version": 3
   },
   "file_extension": ".py",
   "mimetype": "text/x-python",
   "name": "python",
   "nbconvert_exporter": "python",
   "pygments_lexer": "ipython3",
   "version": "3.11.9"
  }
 },
 "nbformat": 4,
 "nbformat_minor": 4
}
